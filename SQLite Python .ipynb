{
 "cells": [
  {
   "cell_type": "code",
   "execution_count": 1,
   "metadata": {},
   "outputs": [],
   "source": [
    "#Importing the required libraries\n",
    "\n",
    "import sqlite3\n",
    "from sqlite3 import Error"
   ]
  },
  {
   "cell_type": "markdown",
   "metadata": {},
   "source": [
    "### Creating LibraryDatabase "
   ]
  },
  {
   "cell_type": "code",
   "execution_count": 2,
   "metadata": {},
   "outputs": [],
   "source": [
    "#Creating a connection object for creating LibraryDatabse using connect() function of the sqlite3 module\n",
    "\n",
    "conn = sqlite3.connect('LibDatabase.db')"
   ]
  },
  {
   "cell_type": "code",
   "execution_count": 3,
   "metadata": {},
   "outputs": [],
   "source": [
    "#Creating cursor object by using cursor() method\n",
    "\n",
    "cursor = conn.cursor()"
   ]
  },
  {
   "cell_type": "markdown",
   "metadata": {},
   "source": [
    "### Creating \"Users\" table in Library Database"
   ]
  },
  {
   "cell_type": "code",
   "execution_count": 4,
   "metadata": {},
   "outputs": [
    {
     "name": "stdout",
     "output_type": "stream",
     "text": [
      "Table created successfully........\n"
     ]
    }
   ],
   "source": [
    "#Using connect, cursor and execute method of sqlite python to create users table\n",
    "\n",
    "conn = sqlite3.connect(\"LibDatabase.db\")\n",
    "cur = conn.cursor()\n",
    "cur.execute('''CREATE TABLE users_table\n",
    "               (id integer PRIMARY KEY, full_name text, enabled text, last_name text)''')\n",
    "print(\"Table created successfully........\")\n",
    "conn.commit()\n",
    "conn.close()"
   ]
  },
  {
   "cell_type": "markdown",
   "metadata": {},
   "source": [
    "### Creating \"Addresses\" table in Library Database "
   ]
  },
  {
   "cell_type": "code",
   "execution_count": 5,
   "metadata": {},
   "outputs": [
    {
     "name": "stdout",
     "output_type": "stream",
     "text": [
      "Table created successfully........\n"
     ]
    }
   ],
   "source": [
    "#Using connect, cursor, and execute method of sqlite python to create addresses table\n",
    "\n",
    "conn = sqlite3.connect(\"LibDatabase.db\")\n",
    "cur = conn.cursor()\n",
    "cur.execute('''CREATE TABLE addresses_table\n",
    "               (user_id integer, street varchar(20), city text, state text, PRIMARY KEY (user_id),FOREIGN KEY (user_id) REFERENCES users_table(id))''')\n",
    "\n",
    "print(\"Table created successfully........\")\n",
    "conn.commit()\n",
    "conn.close()"
   ]
  },
  {
   "cell_type": "markdown",
   "metadata": {},
   "source": [
    "### Creating \"books\" table "
   ]
  },
  {
   "cell_type": "code",
   "execution_count": 6,
   "metadata": {},
   "outputs": [
    {
     "name": "stdout",
     "output_type": "stream",
     "text": [
      "Table created successfully........\n"
     ]
    }
   ],
   "source": [
    "#Creating books table in the library database\n",
    "\n",
    "conn = sqlite3.connect(\"LibDatabase.db\")\n",
    "cur = conn.cursor()\n",
    "cur.execute('''CREATE TABLE books_table\n",
    "               (id integer, title text, author text, published_date datetime, isbn char(12), PRIMARY KEY(id), UNIQUE(isbn))''')\n",
    "\n",
    "print(\"Table created successfully........\")\n",
    "conn.commit()\n",
    "conn.close()"
   ]
  },
  {
   "cell_type": "markdown",
   "metadata": {},
   "source": [
    "### Creating \"reviews\" table in Library database "
   ]
  },
  {
   "cell_type": "code",
   "execution_count": 7,
   "metadata": {},
   "outputs": [
    {
     "name": "stdout",
     "output_type": "stream",
     "text": [
      "Table created successfully........\n"
     ]
    }
   ],
   "source": [
    "conn = sqlite3.connect(\"LibDatabase.db\")\n",
    "cur = conn.cursor()\n",
    "cur.execute('''CREATE TABLE reviews_table\n",
    "               (id integer, book_id integer, reviewer_name varchar(255), content varchar(255), rating integer, published_date datetime, PRIMARY KEY(id), FOREIGN KEY(book_id) REFERENCES books_table(id))''')\n",
    "\n",
    "print(\"Table created successfully........\")\n",
    "conn.commit()\n",
    "conn.close()"
   ]
  },
  {
   "cell_type": "markdown",
   "metadata": {},
   "source": [
    "### Creating \"checkouts\" table in library database "
   ]
  },
  {
   "cell_type": "code",
   "execution_count": 8,
   "metadata": {},
   "outputs": [
    {
     "name": "stdout",
     "output_type": "stream",
     "text": [
      "Table created successfully........\n"
     ]
    }
   ],
   "source": [
    "#Using connect, cursor and execute method of sqlite python to create \"checkouts\"\n",
    "\n",
    "conn = sqlite3.connect(\"LibDatabase.db\")\n",
    "cur = conn.cursor()\n",
    "cur.execute('''CREATE TABLE checkouts_table\n",
    "               (id integer, user_id integer, book_id integer, checkout_date datetime, return_date datetime, PRIMARY KEY (id), \n",
    "               FOREIGN KEY (user_id) REFERENCES users_table(id), FOREIGN KEY (book_id) REFERENCES books_table(id))''')\n",
    "\n",
    "print(\"Table created successfully........\")\n",
    "conn.commit()\n",
    "conn.close()"
   ]
  },
  {
   "cell_type": "markdown",
   "metadata": {},
   "source": [
    "### Inserting content into \"users_table\" table "
   ]
  },
  {
   "cell_type": "code",
   "execution_count": 10,
   "metadata": {},
   "outputs": [],
   "source": [
    "#inserting content into users table \n",
    "\n",
    "conn = sqlite3.connect(\"LibDatabase.db\")\n",
    "cur = conn.cursor()\n",
    "cur.execute(\"INSERT INTO users_table (id, full_name, enabled, last_name) VALUES (1,'John Smith','f', '2017-10-25 10:26:10:015152')\")\n",
    "\n",
    "cur.execute(\"INSERT INTO users_table (id, full_name, enabled, last_name) VALUES (2,'Alice Walker','t', '2017-10-25 10:26:50:295461')\")\n",
    "\n",
    "cur.execute(\"INSERT INTO users_table (id, full_name, enabled, last_name) VALUES (3,'Harry Potter','t', '2017-10-25 10:26:50:295461')\")\n",
    "\n",
    "cur.execute(\"INSERT INTO users_table (id, full_name, enabled, last_name) VALUES (4,'Jane Smith','t', '2017-10-25 10:36:43:324015')\")\n",
    "\n",
    "conn.commit()\n",
    "conn.close()"
   ]
  },
  {
   "cell_type": "markdown",
   "metadata": {},
   "source": [
    "### Inserting content into \"addresses_table\" "
   ]
  },
  {
   "cell_type": "code",
   "execution_count": 12,
   "metadata": {},
   "outputs": [
    {
     "name": "stdout",
     "output_type": "stream",
     "text": [
      "Records inserted........\n"
     ]
    }
   ],
   "source": [
    "#inserting content into addresses table\n",
    "\n",
    "conn = sqlite3.connect(\"LibDatabase.db\")\n",
    "cur = conn.cursor()\n",
    "cur.execute(\"INSERT INTO addresses_table (user_id, street, city, state) VALUES (1,'1 Market Street','San Francisco','CA')\")\n",
    "\n",
    "cur.execute(\"INSERT INTO addresses_table (user_id, street, city, state) VALUES (2,'2 Elm Street','San Francisco','CA')\")\n",
    "\n",
    "cur.execute(\"INSERT INTO addresses_table (user_id, street, city, state) VALUES (3,'3 Main Street','Boston','MA')\")\n",
    "\n",
    "conn.commit()\n",
    "print(\"Records inserted........\")\n",
    "\n",
    "conn.close()"
   ]
  },
  {
   "cell_type": "markdown",
   "metadata": {},
   "source": [
    "### Inserting content into \"books_table\" "
   ]
  },
  {
   "cell_type": "code",
   "execution_count": 13,
   "metadata": {},
   "outputs": [
    {
     "name": "stdout",
     "output_type": "stream",
     "text": [
      "Records inserted........\n"
     ]
    }
   ],
   "source": [
    "#inserting content into books table\n",
    "\n",
    "conn = sqlite3.connect(\"LibDatabase.db\")\n",
    "cur = conn.cursor()\n",
    "cur.execute(\"INSERT INTO books_table (id, title, author, published_date, isbn) VALUES (1,'My First SQL Book','Mary Parker','2012-02-22 12:08:17.320053-03', '981483029127')\")\n",
    "\n",
    "cur.execute(\"INSERT INTO books_table (id, title, author, published_date, isbn) VALUES (2,'My Second SQL Book','John Mayer','1972-07-03 09:22:45.050088-07', '857300923713')\")\n",
    "\n",
    "cur.execute(\"INSERT INTO books_table (id, title, author, published_date, isbn) VALUES (3,'My Third SQL Book','Cary Flint','2015-10-18 14:05:44.547516-07', '523120967812')\")\n",
    "\n",
    "conn.commit()\n",
    "print(\"Records inserted........\")\n",
    "\n",
    "conn.close()"
   ]
  },
  {
   "cell_type": "markdown",
   "metadata": {},
   "source": [
    "### Inserting content into \"reviews_table\" "
   ]
  },
  {
   "cell_type": "code",
   "execution_count": 14,
   "metadata": {},
   "outputs": [
    {
     "name": "stdout",
     "output_type": "stream",
     "text": [
      "Records inserted........\n"
     ]
    }
   ],
   "source": [
    "#inserting content into reviews table\n",
    "\n",
    "conn = sqlite3.connect(\"LibDatabase.db\")\n",
    "cur = conn.cursor()\n",
    "cur.execute(\"INSERT INTO reviews_table (id, book_id, reviewer_name, content, rating, published_date) VALUES (1, 1, 'John Smith','My first review', 4 , '2017-12-10 05:50:11.127281-02')\")\n",
    "\n",
    "cur.execute(\"INSERT INTO reviews_table (id, book_id, reviewer_name, content, rating, published_date) VALUES (2, 2, 'John Smith','My Second review', 5, '2017-10-13 15:05:12.673382-05')\")\n",
    "\n",
    "cur.execute(\"INSERT INTO reviews_table (id, book_id, reviewer_name, content, rating, published_date) VALUES (3, 2, 'Alice Walker','Another review', 1, '2017-10-22 23:47:10.407569-07')\")\n",
    "\n",
    "conn.commit()\n",
    "print(\"Records inserted........\")\n",
    "\n",
    "conn.close()"
   ]
  },
  {
   "cell_type": "markdown",
   "metadata": {},
   "source": [
    "### Inserting content into \"checkouts_table\" "
   ]
  },
  {
   "cell_type": "code",
   "execution_count": 16,
   "metadata": {},
   "outputs": [
    {
     "name": "stdout",
     "output_type": "stream",
     "text": [
      "Records inserted........\n"
     ]
    }
   ],
   "source": [
    "#inserting content into checkouts table\n",
    "\n",
    "conn = sqlite3.connect(\"LibDatabase.db\")\n",
    "cur = conn.cursor()\n",
    "cur.execute(\"INSERT INTO checkouts_table (id, user_id, book_id, checkout_date, return_date) VALUES (1, 1, 1, '2017-10-15 14:43:18.095143-07', NULL)\")\n",
    "\n",
    "cur.execute(\"INSERT INTO checkouts_table (id, user_id, book_id, checkout_date, return_date) VALUES (2, 1, 2, '2017-10-05 16:22:44.593188-07', '2017-10-13 13:0:12.673382-05')\")\n",
    "\n",
    "cur.execute(\"INSERT INTO checkouts_table (id, user_id, book_id, checkout_date, return_date) VALUES (3, 2, 2, '2017-10-15 11:11:24.994973-07', '2017-10-22 17:47:10.407569-07')\")\n",
    "\n",
    "cur.execute(\"INSERT INTO checkouts_table (id, user_id, book_id, checkout_date, return_date) VALUES (4, 5, 3, '2017-10-15 09:27:07.215217-07', NULL)\")\n",
    "\n",
    "conn.commit()\n",
    "print(\"Records inserted........\")\n",
    "\n",
    "conn.close()"
   ]
  },
  {
   "cell_type": "markdown",
   "metadata": {},
   "source": [
    "## Extracting all the data from all tables "
   ]
  },
  {
   "cell_type": "markdown",
   "metadata": {},
   "source": [
    "### Extracting all data from \"users_table\" "
   ]
  },
  {
   "cell_type": "code",
   "execution_count": 17,
   "metadata": {},
   "outputs": [
    {
     "name": "stdout",
     "output_type": "stream",
     "text": [
      "(1, 'John Smith', 'f', '2017-10-25 10:26:10:015152')\n",
      "(2, 'Alice Walker', 't', '2017-10-25 10:26:50:295461')\n",
      "(3, 'Harry Potter', 't', '2017-10-25 10:26:50:295461')\n",
      "(4, 'Jane Smith', 't', '2017-10-25 10:36:43:324015')\n"
     ]
    }
   ],
   "source": [
    "#Extracting all data from users_table\n",
    "\n",
    "conn = sqlite3.connect(\"LibDatabase.db\")\n",
    "cur =  conn.cursor()\n",
    "for one in cur.execute('SELECT * FROM users_table'):\n",
    "        print(one)"
   ]
  },
  {
   "cell_type": "markdown",
   "metadata": {},
   "source": [
    "### Extracting all data from \"addresses_table\" "
   ]
  },
  {
   "cell_type": "code",
   "execution_count": 18,
   "metadata": {},
   "outputs": [
    {
     "name": "stdout",
     "output_type": "stream",
     "text": [
      "(1, '1 Market Street', 'San Francisco', 'CA')\n",
      "(2, '2 Elm Street', 'San Francisco', 'CA')\n",
      "(3, '3 Main Street', 'Boston', 'MA')\n"
     ]
    }
   ],
   "source": [
    "#Extracting all data from addresses table\n",
    "\n",
    "conn = sqlite3.connect(\"LibDatabase.db\")\n",
    "cur = conn.cursor()\n",
    "for two in cur.execute('SELECT * FROM addresses_table'):\n",
    "        print(two)"
   ]
  },
  {
   "cell_type": "markdown",
   "metadata": {},
   "source": [
    "### Extracting all data from \"books_table\" "
   ]
  },
  {
   "cell_type": "code",
   "execution_count": 19,
   "metadata": {},
   "outputs": [
    {
     "name": "stdout",
     "output_type": "stream",
     "text": [
      "(1, 'My First SQL Book', 'Mary Parker', '2012-02-22 12:08:17.320053-03', '981483029127')\n",
      "(2, 'My Second SQL Book', 'John Mayer', '1972-07-03 09:22:45.050088-07', '857300923713')\n",
      "(3, 'My Third SQL Book', 'Cary Flint', '2015-10-18 14:05:44.547516-07', '523120967812')\n"
     ]
    }
   ],
   "source": [
    "#Extracting all data from books_table\n",
    "\n",
    "conn = sqlite3.connect(\"LibDatabase.db\")\n",
    "cur = conn.cursor()\n",
    "for three in cur.execute('SELECT * FROM books_table'):\n",
    "        print(three)"
   ]
  },
  {
   "cell_type": "markdown",
   "metadata": {},
   "source": [
    "### Extracting all data from \"reviews_table\" "
   ]
  },
  {
   "cell_type": "code",
   "execution_count": 20,
   "metadata": {},
   "outputs": [
    {
     "name": "stdout",
     "output_type": "stream",
     "text": [
      "(1, 1, 'John Smith', 'My first review', 4, '2017-12-10 05:50:11.127281-02')\n",
      "(2, 2, 'John Smith', 'My Second review', 5, '2017-10-13 15:05:12.673382-05')\n",
      "(3, 2, 'Alice Walker', 'Another review', 1, '2017-10-22 23:47:10.407569-07')\n"
     ]
    }
   ],
   "source": [
    "#Extracting all data from reviews_table\n",
    "\n",
    "conn = sqlite3.connect(\"LibDatabase.db\")\n",
    "cur = conn.cursor()\n",
    "for four in cur.execute('SELECT * FROM reviews_table'):\n",
    "        print(four)"
   ]
  },
  {
   "cell_type": "markdown",
   "metadata": {},
   "source": [
    "### Extracting all data from \"checkouts_table\" "
   ]
  },
  {
   "cell_type": "code",
   "execution_count": 21,
   "metadata": {},
   "outputs": [
    {
     "name": "stdout",
     "output_type": "stream",
     "text": [
      "(1, 1, 1, '2017-10-15 14:43:18.095143-07', None)\n",
      "(2, 1, 2, '2017-10-05 16:22:44.593188-07', '2017-10-13 13:0:12.673382-05')\n",
      "(3, 2, 2, '2017-10-15 11:11:24.994973-07', '2017-10-22 17:47:10.407569-07')\n",
      "(4, 5, 3, '2017-10-15 09:27:07.215217-07', None)\n"
     ]
    }
   ],
   "source": [
    "#Extracting all data from checkouts_table\n",
    "\n",
    "conn = sqlite3.connect(\"LibDatabase.db\")\n",
    "cur = conn.cursor()\n",
    "for five in cur.execute('SELECT * FROM checkouts_table'):\n",
    "        print(five)"
   ]
  },
  {
   "cell_type": "markdown",
   "metadata": {},
   "source": [
    "# Querying Data "
   ]
  },
  {
   "cell_type": "markdown",
   "metadata": {},
   "source": [
    "### Finding the title, author and isbn of the books that \"john smith\" has checked out "
   ]
  },
  {
   "cell_type": "code",
   "execution_count": 22,
   "metadata": {},
   "outputs": [
    {
     "name": "stdout",
     "output_type": "stream",
     "text": [
      "The title, author and isbn of books that john smith has checked out are: [('My First SQL Book', 'Mary Parker', '981483029127'), ('My Second SQL Book', 'John Mayer', '857300923713')]\n"
     ]
    }
   ],
   "source": [
    "#Finding the title, author and isbn of the books that \"john smith\" has checked out\n",
    "\n",
    "conn = sqlite3.connect(\"LibDatabase.db\")\n",
    "cur = conn.cursor()\n",
    "\n",
    "cur.execute('''SELECT title, author, isbn FROM books_table INNER JOIN checkouts_table ON checkouts_table.book_id = books_table.id \n",
    "INNER JOIN users_table ON users_table.id = checkouts_table.book_id WHERE user_id = 1''')\n",
    "\n",
    "\n",
    "\n",
    "print(\"The title, author and isbn of books that john smith has checked out are:\", cur.fetchall())\n",
    "\n",
    "conn.commit()\n",
    "conn.close()"
   ]
  },
  {
   "cell_type": "markdown",
   "metadata": {},
   "source": [
    "### Find all reviewers for the book \"My Third SQL book\" "
   ]
  },
  {
   "cell_type": "code",
   "execution_count": 24,
   "metadata": {},
   "outputs": [
    {
     "name": "stdout",
     "output_type": "stream",
     "text": [
      "All reviewers for the book My third SQL book: []\n"
     ]
    }
   ],
   "source": [
    "#Finding all reviewers for the book \"My Third SQL book\"\n",
    "\n",
    "conn = sqlite3.connect(\"LibDatabase.db\")\n",
    "cur = conn.cursor()\n",
    "\n",
    "cur.execute('''SELECT reviewer_name FROM reviews_table INNER JOIN books_table ON books_table.id = reviews_table.id WHERE book_id = 3 ''')\n",
    "\n",
    "print(\"All reviewers for the book My third SQL book:\", cur.fetchall())\n",
    "\n",
    "conn.commit()\n",
    "conn.close()"
   ]
  },
  {
   "cell_type": "markdown",
   "metadata": {},
   "source": [
    "<span style=\"color:red\">No one has reviewed My third SQL book</span>"
   ]
  },
  {
   "cell_type": "markdown",
   "metadata": {},
   "source": [
    "### Finding the users that have no books checked out "
   ]
  },
  {
   "cell_type": "code",
   "execution_count": 25,
   "metadata": {},
   "outputs": [
    {
     "name": "stdout",
     "output_type": "stream",
     "text": [
      "Users that have no books checked out: [('Harry Potter',)]\n"
     ]
    }
   ],
   "source": [
    "#Finding the users that have no books checked out\n",
    "\n",
    "conn = sqlite3.connect(\"LibDatabase.db\")\n",
    "cur = conn.cursor()\n",
    "\n",
    "cur.execute('''SELECT full_name FROM users_table INNER JOIN checkouts_table ON checkouts_table.id = users_table.id WHERE users_table.id = 3''')\n",
    "\n",
    "print(\"Users that have no books checked out:\", cur.fetchall())\n",
    "\n",
    "conn.commit()\n",
    "conn.close()"
   ]
  },
  {
   "cell_type": "markdown",
   "metadata": {},
   "source": [
    "<span style=\"color:blue\">Harry Potter did not check out any book</span>"
   ]
  },
  {
   "cell_type": "markdown",
   "metadata": {},
   "source": [
    "# Thank You"
   ]
  },
  {
   "cell_type": "code",
   "execution_count": null,
   "metadata": {},
   "outputs": [],
   "source": []
  }
 ],
 "metadata": {
  "kernelspec": {
   "display_name": "Python 3",
   "language": "python",
   "name": "python3"
  },
  "language_info": {
   "codemirror_mode": {
    "name": "ipython",
    "version": 3
   },
   "file_extension": ".py",
   "mimetype": "text/x-python",
   "name": "python",
   "nbconvert_exporter": "python",
   "pygments_lexer": "ipython3",
   "version": "3.8.5"
  }
 },
 "nbformat": 4,
 "nbformat_minor": 4
}
