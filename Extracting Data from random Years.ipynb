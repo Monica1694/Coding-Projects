{
 "cells": [
  {
   "cell_type": "code",
   "execution_count": 1,
   "metadata": {},
   "outputs": [],
   "source": [
    "#Loading the Required Libraries\n",
    "\n",
    "import random\n",
    "import math"
   ]
  },
  {
   "cell_type": "code",
   "execution_count": 2,
   "metadata": {},
   "outputs": [],
   "source": [
    "#Creating list of int of 30 years in which years are randomly generated from 1990 to 2021 then sorting the list in ascending order\n",
    "\n",
    "for i in range(0,30):\n",
    "    n = random.sample(range(1900,2021),30)\n",
    "list = n"
   ]
  },
  {
   "cell_type": "code",
   "execution_count": 3,
   "metadata": {},
   "outputs": [
    {
     "name": "stdout",
     "output_type": "stream",
     "text": [
      "List of random 30 years:\n",
      "\n",
      " [1908, 1946, 1911, 1991, 2019, 1905, 1924, 1951, 2018, 1930, 1971, 1986, 1980, 1999, 1967, 1922, 1960, 2002, 1982, 1940, 2007, 1948, 2001, 1992, 1931, 1902, 2011, 2006, 2010, 1959]\n"
     ]
    }
   ],
   "source": [
    "#Printing the list\n",
    "\n",
    "print(\"List of random 30 years:\\n\\n\",list)"
   ]
  },
  {
   "cell_type": "markdown",
   "metadata": {},
   "source": [
    "### Printing the Sorted List"
   ]
  },
  {
   "cell_type": "code",
   "execution_count": 4,
   "metadata": {},
   "outputs": [],
   "source": [
    "#Sorting the above list in ascending order\n",
    "\n",
    "list.sort()"
   ]
  },
  {
   "cell_type": "code",
   "execution_count": 5,
   "metadata": {},
   "outputs": [
    {
     "name": "stdout",
     "output_type": "stream",
     "text": [
      "\n",
      "The Sorted list of above years is:\n",
      "\n",
      " [1902, 1905, 1908, 1911, 1922, 1924, 1930, 1931, 1940, 1946, 1948, 1951, 1959, 1960, 1967, 1971, 1980, 1982, 1986, 1991, 1992, 1999, 2001, 2002, 2006, 2007, 2010, 2011, 2018, 2019]\n"
     ]
    }
   ],
   "source": [
    "#Printing the sorted list\n",
    "\n",
    "print(\"\\nThe Sorted list of above years is:\\n\\n\",list)"
   ]
  },
  {
   "cell_type": "markdown",
   "metadata": {},
   "source": [
    "### Print the output which year of the list is leap year and which year is not leap year "
   ]
  },
  {
   "cell_type": "code",
   "execution_count": 6,
   "metadata": {},
   "outputs": [
    {
     "name": "stdout",
     "output_type": "stream",
     "text": [
      "1902 is not a leap year\n",
      "1905 is not a leap year\n",
      "1908 is a leap year\n",
      "1911 is not a leap year\n",
      "1922 is not a leap year\n",
      "1924 is a leap year\n",
      "1930 is not a leap year\n",
      "1931 is not a leap year\n",
      "1940 is a leap year\n",
      "1946 is not a leap year\n",
      "1948 is a leap year\n",
      "1951 is not a leap year\n",
      "1959 is not a leap year\n",
      "1960 is a leap year\n",
      "1967 is not a leap year\n",
      "1971 is not a leap year\n",
      "1980 is a leap year\n",
      "1982 is not a leap year\n",
      "1986 is not a leap year\n",
      "1991 is not a leap year\n",
      "1992 is a leap year\n",
      "1999 is not a leap year\n",
      "2001 is not a leap year\n",
      "2002 is not a leap year\n",
      "2006 is not a leap year\n",
      "2007 is not a leap year\n",
      "2010 is not a leap year\n",
      "2011 is not a leap year\n",
      "2018 is not a leap year\n",
      "2019 is not a leap year\n"
     ]
    }
   ],
   "source": [
    "#Sorting out whether the year is a leap year or not\n",
    "\n",
    "def leapyear(x):\n",
    "    for year in list:\n",
    "      if (0==year %4):\n",
    "          if (0==year %100):\n",
    "              if(0== year%400):\n",
    "                print (year, \"is a leap year\")\n",
    "              else:\n",
    "                print(year,\"is not a leap year\")\n",
    "          else:\n",
    "            print(year,\"is a leap year\")\n",
    "      else:\n",
    "          print(year,\"is not a leap year\")\n",
    "                \n",
    "leapyear(list)"
   ]
  },
  {
   "cell_type": "markdown",
   "metadata": {},
   "source": [
    "## Problem 2 "
   ]
  },
  {
   "cell_type": "markdown",
   "metadata": {},
   "source": [
    "### Printing the list of 50 random integers between 1 and 15000 "
   ]
  },
  {
   "cell_type": "code",
   "execution_count": 7,
   "metadata": {},
   "outputs": [],
   "source": [
    "#Creating a list of random 50 integers between 1 and 15000\n",
    "\n",
    "for x in range(0,50):\n",
    "    ran = random.sample(range(1,15000),50)\n",
    "list2 = ran"
   ]
  },
  {
   "cell_type": "code",
   "execution_count": 8,
   "metadata": {},
   "outputs": [
    {
     "name": "stdout",
     "output_type": "stream",
     "text": [
      "The list of random 50 integers are:\n",
      "\n",
      " [3708, 11048, 11780, 10823, 6647, 13577, 12888, 11200, 5695, 12658, 11768, 7231, 13518, 1126, 3701, 2667, 3581, 2095, 1603, 11529, 1336, 7858, 4559, 10292, 10319, 1617, 6933, 4984, 14706, 9500, 1327, 3460, 2991, 103, 4217, 11004, 12199, 1839, 2777, 6109, 11915, 2833, 10991, 13422, 138, 8067, 1659, 4008, 9771, 4174]\n"
     ]
    }
   ],
   "source": [
    "#Printing the output of above code\n",
    "\n",
    "print(\"The list of random 50 integers are:\\n\\n\", list2)"
   ]
  },
  {
   "cell_type": "markdown",
   "metadata": {},
   "source": [
    "### Printing the sorted list "
   ]
  },
  {
   "cell_type": "code",
   "execution_count": 9,
   "metadata": {},
   "outputs": [],
   "source": [
    "#Sorting the above list in ascending order\n",
    "\n",
    "list2.sort()"
   ]
  },
  {
   "cell_type": "code",
   "execution_count": 10,
   "metadata": {},
   "outputs": [
    {
     "name": "stdout",
     "output_type": "stream",
     "text": [
      "\n",
      " The sorted list of random 50 integers are:\n",
      "\n",
      " [103, 138, 1126, 1327, 1336, 1603, 1617, 1659, 1839, 2095, 2667, 2777, 2833, 2991, 3460, 3581, 3701, 3708, 4008, 4174, 4217, 4559, 4984, 5695, 6109, 6647, 6933, 7231, 7858, 8067, 9500, 9771, 10292, 10319, 10823, 10991, 11004, 11048, 11200, 11529, 11768, 11780, 11915, 12199, 12658, 12888, 13422, 13518, 13577, 14706]\n",
      "\n",
      "\n"
     ]
    }
   ],
   "source": [
    "#Printing the above code\n",
    "\n",
    "print(\"\\n The sorted list of random 50 integers are:\\n\\n\", list2)\n",
    "print(\"\\n\")"
   ]
  },
  {
   "cell_type": "markdown",
   "metadata": {},
   "source": [
    "### Printing the output either the numbers in the list is a Fibonacci or not "
   ]
  },
  {
   "cell_type": "code",
   "execution_count": 11,
   "metadata": {},
   "outputs": [
    {
     "name": "stdout",
     "output_type": "stream",
     "text": [
      "103 is not a fibonacci number\n",
      "\n",
      "138 is not a fibonacci number\n",
      "\n",
      "1126 is not a fibonacci number\n",
      "\n",
      "1327 is not a fibonacci number\n",
      "\n",
      "1336 is not a fibonacci number\n",
      "\n",
      "1603 is not a fibonacci number\n",
      "\n",
      "1617 is not a fibonacci number\n",
      "\n",
      "1659 is not a fibonacci number\n",
      "\n",
      "1839 is not a fibonacci number\n",
      "\n",
      "2095 is not a fibonacci number\n",
      "\n",
      "2667 is not a fibonacci number\n",
      "\n",
      "2777 is not a fibonacci number\n",
      "\n",
      "2833 is not a fibonacci number\n",
      "\n",
      "2991 is not a fibonacci number\n",
      "\n",
      "3460 is not a fibonacci number\n",
      "\n",
      "3581 is not a fibonacci number\n",
      "\n",
      "3701 is not a fibonacci number\n",
      "\n",
      "3708 is not a fibonacci number\n",
      "\n",
      "4008 is not a fibonacci number\n",
      "\n",
      "4174 is not a fibonacci number\n",
      "\n",
      "4217 is not a fibonacci number\n",
      "\n",
      "4559 is not a fibonacci number\n",
      "\n",
      "4984 is not a fibonacci number\n",
      "\n",
      "5695 is not a fibonacci number\n",
      "\n",
      "6109 is not a fibonacci number\n",
      "\n",
      "6647 is not a fibonacci number\n",
      "\n",
      "6933 is not a fibonacci number\n",
      "\n",
      "7231 is not a fibonacci number\n",
      "\n",
      "7858 is not a fibonacci number\n",
      "\n",
      "8067 is not a fibonacci number\n",
      "\n",
      "9500 is not a fibonacci number\n",
      "\n",
      "9771 is not a fibonacci number\n",
      "\n",
      "10292 is not a fibonacci number\n",
      "\n",
      "10319 is not a fibonacci number\n",
      "\n",
      "10823 is not a fibonacci number\n",
      "\n",
      "10991 is not a fibonacci number\n",
      "\n",
      "11004 is not a fibonacci number\n",
      "\n",
      "11048 is not a fibonacci number\n",
      "\n",
      "11200 is not a fibonacci number\n",
      "\n",
      "11529 is not a fibonacci number\n",
      "\n",
      "11768 is not a fibonacci number\n",
      "\n",
      "11780 is not a fibonacci number\n",
      "\n",
      "11915 is not a fibonacci number\n",
      "\n",
      "12199 is not a fibonacci number\n",
      "\n",
      "12658 is not a fibonacci number\n",
      "\n",
      "12888 is not a fibonacci number\n",
      "\n",
      "13422 is not a fibonacci number\n",
      "\n",
      "13518 is not a fibonacci number\n",
      "\n",
      "13577 is not a fibonacci number\n",
      "\n",
      "14706 is not a fibonacci number\n",
      "\n"
     ]
    }
   ],
   "source": [
    "#Finding whether the number in the above list is a fibonacci or not\n",
    "\n",
    "def fibonacci(x):\n",
    "  for N in list2:\n",
    "    X=5* N**2 + 4\n",
    "    Y=5* N**2 - 4\n",
    "    if((math.ceil(math.sqrt(X))== math.floor(math.sqrt(X))) or \n",
    "       (math.ceil(math.sqrt(Y))== math.floor(math.sqrt(Y))) ):\n",
    "         print(N, \"is  a fibonacci number\\n\")\n",
    "    else: \n",
    "         print(N, \"is not a fibonacci number\\n\")\n",
    "                \n",
    "fibonacci(list2)"
   ]
  },
  {
   "cell_type": "markdown",
   "metadata": {},
   "source": [
    "### The list of number generated for checking Fibonacci series "
   ]
  },
  {
   "cell_type": "code",
   "execution_count": 12,
   "metadata": {},
   "outputs": [
    {
     "name": "stdout",
     "output_type": "stream",
     "text": [
      "The list of number generated for checking Fibonacci series as follows:\n",
      "\n",
      "[1, 2, 3, 5, 8, 13, 21, 34, 55, 89, 144, 233, 377, 610, 987, 1597, 2584, 4181, 6765, 10946]\n"
     ]
    }
   ],
   "source": [
    "#Creating a list for checking fibonacci\n",
    "\n",
    "print(\"The list of number generated for checking Fibonacci series as follows:\\n\")\n",
    "n1, n2 =1, 2\n",
    "count=0\n",
    "NewList = []\n",
    "while count <20:\n",
    "          NewList.append(n1)\n",
    "          nth = n1+n2\n",
    "#Updated\n",
    "          n1=n2\n",
    "          n2=nth\n",
    "          count+=1\n",
    "print(NewList)"
   ]
  },
  {
   "cell_type": "code",
   "execution_count": 13,
   "metadata": {},
   "outputs": [
    {
     "name": "stdout",
     "output_type": "stream",
     "text": [
      "1 is  a fibonacci number\n",
      "\n",
      "2 is  a fibonacci number\n",
      "\n",
      "3 is  a fibonacci number\n",
      "\n",
      "5 is  a fibonacci number\n",
      "\n",
      "8 is  a fibonacci number\n",
      "\n",
      "13 is  a fibonacci number\n",
      "\n",
      "21 is  a fibonacci number\n",
      "\n",
      "34 is  a fibonacci number\n",
      "\n",
      "55 is  a fibonacci number\n",
      "\n",
      "89 is  a fibonacci number\n",
      "\n",
      "144 is  a fibonacci number\n",
      "\n",
      "233 is  a fibonacci number\n",
      "\n",
      "377 is  a fibonacci number\n",
      "\n",
      "610 is  a fibonacci number\n",
      "\n",
      "987 is  a fibonacci number\n",
      "\n",
      "1597 is  a fibonacci number\n",
      "\n",
      "2584 is  a fibonacci number\n",
      "\n",
      "4181 is  a fibonacci number\n",
      "\n",
      "6765 is  a fibonacci number\n",
      "\n",
      "10946 is  a fibonacci number\n",
      "\n"
     ]
    }
   ],
   "source": [
    "#Finding out whether the number is fibonacci or not\n",
    "\n",
    "def fibonacci(n):\n",
    "  for N in NewList:\n",
    "    X=5* N**2 + 4\n",
    "    Y=5* N**2 - 4\n",
    "    if((math.ceil(math.sqrt(X))== math.floor(math.sqrt(X))) or \n",
    "       (math.ceil(math.sqrt(Y))== math.floor(math.sqrt(Y))) ):\n",
    "         print(N, \"is  a fibonacci number\\n\")\n",
    "    else: \n",
    "         print(N, \"is not a fibonacci number\\n\")\n",
    "         \n",
    "fibonacci(NewList)  "
   ]
  },
  {
   "cell_type": "markdown",
   "metadata": {},
   "source": [
    "# Thank You"
   ]
  },
  {
   "cell_type": "code",
   "execution_count": null,
   "metadata": {},
   "outputs": [],
   "source": []
  }
 ],
 "metadata": {
  "kernelspec": {
   "display_name": "Python 3",
   "language": "python",
   "name": "python3"
  },
  "language_info": {
   "codemirror_mode": {
    "name": "ipython",
    "version": 3
   },
   "file_extension": ".py",
   "mimetype": "text/x-python",
   "name": "python",
   "nbconvert_exporter": "python",
   "pygments_lexer": "ipython3",
   "version": "3.8.5"
  }
 },
 "nbformat": 4,
 "nbformat_minor": 4
}
