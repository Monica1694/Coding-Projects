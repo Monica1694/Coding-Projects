{
 "cells": [
  {
   "cell_type": "markdown",
   "metadata": {},
   "source": [
    "# Citi Bike Data Wrangling and Exploratory Data Analysis"
   ]
  },
  {
   "cell_type": "code",
   "execution_count": 1,
   "metadata": {},
   "outputs": [],
   "source": [
    "#Importing the required libraries\n",
    "\n",
    "import pandas as pd\n",
    "import numpy as np\n",
    "import datetime\n",
    "import matplotlib.pyplot as plt\n",
    "import seaborn as sns\n",
    "%matplotlib inline"
   ]
  },
  {
   "cell_type": "markdown",
   "metadata": {},
   "source": [
    "### Importing the Dataset"
   ]
  },
  {
   "cell_type": "code",
   "execution_count": 2,
   "metadata": {},
   "outputs": [],
   "source": [
    "#Importing \"CitiBike Trip data\" \n",
    "\n",
    "df = pd.read_csv(\"C:\\\\Users\\\\91988\\\\Downloads\\\\citibike-tripdata.csv\")"
   ]
  },
  {
   "cell_type": "code",
   "execution_count": 3,
   "metadata": {},
   "outputs": [
    {
     "data": {
      "text/html": [
       "<div>\n",
       "<style scoped>\n",
       "    .dataframe tbody tr th:only-of-type {\n",
       "        vertical-align: middle;\n",
       "    }\n",
       "\n",
       "    .dataframe tbody tr th {\n",
       "        vertical-align: top;\n",
       "    }\n",
       "\n",
       "    .dataframe thead th {\n",
       "        text-align: right;\n",
       "    }\n",
       "</style>\n",
       "<table border=\"1\" class=\"dataframe\">\n",
       "  <thead>\n",
       "    <tr style=\"text-align: right;\">\n",
       "      <th></th>\n",
       "      <th>tripduration</th>\n",
       "      <th>starttime</th>\n",
       "      <th>stoptime</th>\n",
       "      <th>start station id</th>\n",
       "      <th>start station name</th>\n",
       "      <th>start station latitude</th>\n",
       "      <th>start station longitude</th>\n",
       "      <th>end station id</th>\n",
       "      <th>end station name</th>\n",
       "      <th>end station latitude</th>\n",
       "      <th>end station longitude</th>\n",
       "      <th>bikeid</th>\n",
       "      <th>usertype</th>\n",
       "      <th>birth year</th>\n",
       "      <th>gender</th>\n",
       "    </tr>\n",
       "  </thead>\n",
       "  <tbody>\n",
       "    <tr>\n",
       "      <th>0</th>\n",
       "      <td>410</td>\n",
       "      <td>2017-10-01 00:03:08</td>\n",
       "      <td>2017-10-01 00:09:59</td>\n",
       "      <td>3213</td>\n",
       "      <td>Van Vorst Park</td>\n",
       "      <td>40.718489</td>\n",
       "      <td>-74.047727</td>\n",
       "      <td>3192</td>\n",
       "      <td>Liberty Light Rail</td>\n",
       "      <td>40.711242</td>\n",
       "      <td>-74.055701</td>\n",
       "      <td>26187</td>\n",
       "      <td>Subscriber</td>\n",
       "      <td>1976.0</td>\n",
       "      <td>1</td>\n",
       "    </tr>\n",
       "    <tr>\n",
       "      <th>1</th>\n",
       "      <td>412</td>\n",
       "      <td>2017-10-01 00:03:13</td>\n",
       "      <td>2017-10-01 00:10:06</td>\n",
       "      <td>3213</td>\n",
       "      <td>Van Vorst Park</td>\n",
       "      <td>40.718489</td>\n",
       "      <td>-74.047727</td>\n",
       "      <td>3192</td>\n",
       "      <td>Liberty Light Rail</td>\n",
       "      <td>40.711242</td>\n",
       "      <td>-74.055701</td>\n",
       "      <td>31768</td>\n",
       "      <td>Subscriber</td>\n",
       "      <td>1975.0</td>\n",
       "      <td>2</td>\n",
       "    </tr>\n",
       "    <tr>\n",
       "      <th>2</th>\n",
       "      <td>274</td>\n",
       "      <td>2017-10-01 00:24:07</td>\n",
       "      <td>2017-10-01 00:28:42</td>\n",
       "      <td>3195</td>\n",
       "      <td>Sip Ave</td>\n",
       "      <td>40.730743</td>\n",
       "      <td>-74.063784</td>\n",
       "      <td>3194</td>\n",
       "      <td>McGinley Square</td>\n",
       "      <td>40.725340</td>\n",
       "      <td>-74.067622</td>\n",
       "      <td>26311</td>\n",
       "      <td>Subscriber</td>\n",
       "      <td>1979.0</td>\n",
       "      <td>1</td>\n",
       "    </tr>\n",
       "    <tr>\n",
       "      <th>3</th>\n",
       "      <td>2198</td>\n",
       "      <td>2017-10-01 00:31:03</td>\n",
       "      <td>2017-10-01 01:07:42</td>\n",
       "      <td>3199</td>\n",
       "      <td>Newport Pkwy</td>\n",
       "      <td>40.728745</td>\n",
       "      <td>-74.032108</td>\n",
       "      <td>3183</td>\n",
       "      <td>Exchange Place</td>\n",
       "      <td>40.716247</td>\n",
       "      <td>-74.033459</td>\n",
       "      <td>31709</td>\n",
       "      <td>Subscriber</td>\n",
       "      <td>1994.0</td>\n",
       "      <td>1</td>\n",
       "    </tr>\n",
       "    <tr>\n",
       "      <th>4</th>\n",
       "      <td>166</td>\n",
       "      <td>2017-10-01 00:34:09</td>\n",
       "      <td>2017-10-01 00:36:56</td>\n",
       "      <td>3186</td>\n",
       "      <td>Grove St PATH</td>\n",
       "      <td>40.719586</td>\n",
       "      <td>-74.043117</td>\n",
       "      <td>3213</td>\n",
       "      <td>Van Vorst Park</td>\n",
       "      <td>40.718489</td>\n",
       "      <td>-74.047727</td>\n",
       "      <td>31759</td>\n",
       "      <td>Subscriber</td>\n",
       "      <td>1967.0</td>\n",
       "      <td>2</td>\n",
       "    </tr>\n",
       "  </tbody>\n",
       "</table>\n",
       "</div>"
      ],
      "text/plain": [
       "   tripduration            starttime             stoptime  start station id  \\\n",
       "0           410  2017-10-01 00:03:08  2017-10-01 00:09:59              3213   \n",
       "1           412  2017-10-01 00:03:13  2017-10-01 00:10:06              3213   \n",
       "2           274  2017-10-01 00:24:07  2017-10-01 00:28:42              3195   \n",
       "3          2198  2017-10-01 00:31:03  2017-10-01 01:07:42              3199   \n",
       "4           166  2017-10-01 00:34:09  2017-10-01 00:36:56              3186   \n",
       "\n",
       "  start station name  start station latitude  start station longitude  \\\n",
       "0     Van Vorst Park               40.718489               -74.047727   \n",
       "1     Van Vorst Park               40.718489               -74.047727   \n",
       "2            Sip Ave               40.730743               -74.063784   \n",
       "3       Newport Pkwy               40.728745               -74.032108   \n",
       "4      Grove St PATH               40.719586               -74.043117   \n",
       "\n",
       "   end station id    end station name  end station latitude  \\\n",
       "0            3192  Liberty Light Rail             40.711242   \n",
       "1            3192  Liberty Light Rail             40.711242   \n",
       "2            3194     McGinley Square             40.725340   \n",
       "3            3183      Exchange Place             40.716247   \n",
       "4            3213      Van Vorst Park             40.718489   \n",
       "\n",
       "   end station longitude  bikeid    usertype  birth year  gender  \n",
       "0             -74.055701   26187  Subscriber      1976.0       1  \n",
       "1             -74.055701   31768  Subscriber      1975.0       2  \n",
       "2             -74.067622   26311  Subscriber      1979.0       1  \n",
       "3             -74.033459   31709  Subscriber      1994.0       1  \n",
       "4             -74.047727   31759  Subscriber      1967.0       2  "
      ]
     },
     "execution_count": 3,
     "metadata": {},
     "output_type": "execute_result"
    }
   ],
   "source": [
    "#Using pandas \"head()\" function to display first five rows of the dataset\n",
    "\n",
    "df.head()"
   ]
  },
  {
   "cell_type": "code",
   "execution_count": 4,
   "metadata": {},
   "outputs": [
    {
     "data": {
      "text/plain": [
       "(34919, 15)"
      ]
     },
     "execution_count": 4,
     "metadata": {},
     "output_type": "execute_result"
    }
   ],
   "source": [
    "#Using pandas \"shape\" function to know the dimensionality of the dataframe\n",
    "\n",
    "df.shape"
   ]
  },
  {
   "cell_type": "markdown",
   "metadata": {},
   "source": [
    "### Checking data type of all columns "
   ]
  },
  {
   "cell_type": "code",
   "execution_count": 5,
   "metadata": {},
   "outputs": [
    {
     "data": {
      "text/plain": [
       "tripduration                 int64\n",
       "starttime                   object\n",
       "stoptime                    object\n",
       "start station id             int64\n",
       "start station name          object\n",
       "start station latitude     float64\n",
       "start station longitude    float64\n",
       "end station id               int64\n",
       "end station name            object\n",
       "end station latitude       float64\n",
       "end station longitude      float64\n",
       "bikeid                       int64\n",
       "usertype                    object\n",
       "birth year                 float64\n",
       "gender                       int64\n",
       "dtype: object"
      ]
     },
     "execution_count": 5,
     "metadata": {},
     "output_type": "execute_result"
    }
   ],
   "source": [
    "#Using pandas \"dtypes\" attribute to check data type of all columns in the given dataset\n",
    "\n",
    "df.dtypes"
   ]
  },
  {
   "cell_type": "markdown",
   "metadata": {},
   "source": [
    "<span style=\"color:red\">__Key Insights__</span>\n",
    "\n",
    "<span style=\"color:blue\">1. Tripduration is given in seconds, so for the visualization purpose this column needs to be transformed into float and time format.</span>\n",
    "\n",
    "<span style=\"color:blue\">2. There is a need to split starttime and stoptime columns into date and time columns.</span>\n",
    "\n",
    "<span style=\"color:blue\">3. We need to drop start and end station ids columns from the given dataset as we do not require them for further analysis.</span>\n",
    "\n",
    "<span style=\"color:blue\">4. Transformation is required in the birth year as the data is having float format instead of integer</span>"
   ]
  },
  {
   "cell_type": "markdown",
   "metadata": {},
   "source": [
    "### Checking Missing Values "
   ]
  },
  {
   "cell_type": "code",
   "execution_count": 6,
   "metadata": {},
   "outputs": [
    {
     "data": {
      "text/plain": [
       "tripduration                  0\n",
       "starttime                     0\n",
       "stoptime                      0\n",
       "start station id              0\n",
       "start station name            0\n",
       "start station latitude        0\n",
       "start station longitude       0\n",
       "end station id                0\n",
       "end station name              0\n",
       "end station latitude          0\n",
       "end station longitude         0\n",
       "bikeid                        0\n",
       "usertype                      0\n",
       "birth year                 2158\n",
       "gender                        0\n",
       "dtype: int64"
      ]
     },
     "execution_count": 6,
     "metadata": {},
     "output_type": "execute_result"
    }
   ],
   "source": [
    "#Using pandas \"isnull\" method to check null values in the dataset\n",
    "\n",
    "df.isnull().sum()"
   ]
  },
  {
   "cell_type": "markdown",
   "metadata": {},
   "source": [
    "\n",
    "<span style=\"color:blue\">From the above results, it can be seen that the birth year column is having 2158 missing values, thus these values should either be removed from the dataset or replaced with column's average value. \n",
    "Here, it is necessary to replace these null values so that no data is wasted. As a result, the null values in the birth year column will be replaced with the median or average value of the birth yearr column.</span>"
   ]
  },
  {
   "cell_type": "markdown",
   "metadata": {},
   "source": [
    "### Dealing with Missing Values "
   ]
  },
  {
   "cell_type": "markdown",
   "metadata": {},
   "source": [
    "__Convert \"NULL\" to NaN__\n",
    "\n",
    "<span style=\"color:blue\">In the Citi Bike dataset, missing data in the birth year column comes with NULL word. Therefore, it is must to replace NULL with Python's default missing value marker, that is, NaN.</span>"
   ]
  },
  {
   "cell_type": "code",
   "execution_count": 7,
   "metadata": {},
   "outputs": [],
   "source": [
    "#Using pandas \"replace\" function to replace NULL with NaN values\n",
    "\n",
    "df.replace(\"NULL\", np.nan, inplace = True)"
   ]
  },
  {
   "cell_type": "markdown",
   "metadata": {},
   "source": [
    "__Calculating Average Value of the birth year column__"
   ]
  },
  {
   "cell_type": "code",
   "execution_count": 8,
   "metadata": {},
   "outputs": [
    {
     "name": "stdout",
     "output_type": "stream",
     "text": [
      "Average of birth year column: 1980.1390677940233\n"
     ]
    }
   ],
   "source": [
    "#Using pandas \"mean\" method to calculate the average value of birth year column\n",
    "\n",
    "avg_birth_year = df[\"birth year\"].astype(\"float\").mean(axis=0)\n",
    "print(\"Average of birth year column:\", avg_birth_year)"
   ]
  },
  {
   "cell_type": "markdown",
   "metadata": {},
   "source": [
    "__To replace missing data in birth year column with average of the column__"
   ]
  },
  {
   "cell_type": "code",
   "execution_count": 9,
   "metadata": {},
   "outputs": [],
   "source": [
    "#Using pandas \"replace\" function to replace null values with the average of birth year column\n",
    "#Here there is a need to replace null values with 1980 value instead of actual mean as birth year cannot be in float or decimal\n",
    "\n",
    "df[\"birth year\"].replace(np.nan, 1980, inplace = True)"
   ]
  },
  {
   "cell_type": "markdown",
   "metadata": {},
   "source": [
    "__Checking missing values in birth year column after replacing null values with the average of the column__"
   ]
  },
  {
   "cell_type": "code",
   "execution_count": 10,
   "metadata": {},
   "outputs": [
    {
     "data": {
      "text/plain": [
       "tripduration               0\n",
       "starttime                  0\n",
       "stoptime                   0\n",
       "start station id           0\n",
       "start station name         0\n",
       "start station latitude     0\n",
       "start station longitude    0\n",
       "end station id             0\n",
       "end station name           0\n",
       "end station latitude       0\n",
       "end station longitude      0\n",
       "bikeid                     0\n",
       "usertype                   0\n",
       "birth year                 0\n",
       "gender                     0\n",
       "dtype: int64"
      ]
     },
     "execution_count": 10,
     "metadata": {},
     "output_type": "execute_result"
    }
   ],
   "source": [
    "#Using pandas \"isnull\" attribute to check presense of null of values\n",
    "\n",
    "df.isnull().sum()"
   ]
  },
  {
   "cell_type": "markdown",
   "metadata": {},
   "source": [
    "<span style=\"color:blue\">It can be seen that there are no missing values in the dataset after replacing null values with the mean of the column.</span>"
   ]
  },
  {
   "cell_type": "markdown",
   "metadata": {},
   "source": [
    "### Dropping columns that are not required for further analysis"
   ]
  },
  {
   "cell_type": "code",
   "execution_count": 11,
   "metadata": {},
   "outputs": [
    {
     "data": {
      "text/html": [
       "<div>\n",
       "<style scoped>\n",
       "    .dataframe tbody tr th:only-of-type {\n",
       "        vertical-align: middle;\n",
       "    }\n",
       "\n",
       "    .dataframe tbody tr th {\n",
       "        vertical-align: top;\n",
       "    }\n",
       "\n",
       "    .dataframe thead th {\n",
       "        text-align: right;\n",
       "    }\n",
       "</style>\n",
       "<table border=\"1\" class=\"dataframe\">\n",
       "  <thead>\n",
       "    <tr style=\"text-align: right;\">\n",
       "      <th></th>\n",
       "      <th>tripduration</th>\n",
       "      <th>starttime</th>\n",
       "      <th>stoptime</th>\n",
       "      <th>start station name</th>\n",
       "      <th>start station latitude</th>\n",
       "      <th>start station longitude</th>\n",
       "      <th>end station name</th>\n",
       "      <th>end station latitude</th>\n",
       "      <th>end station longitude</th>\n",
       "      <th>bikeid</th>\n",
       "      <th>usertype</th>\n",
       "      <th>birth year</th>\n",
       "      <th>gender</th>\n",
       "    </tr>\n",
       "  </thead>\n",
       "  <tbody>\n",
       "    <tr>\n",
       "      <th>34914</th>\n",
       "      <td>645</td>\n",
       "      <td>2017-10-31 23:30:45</td>\n",
       "      <td>2017-10-31 23:41:30</td>\n",
       "      <td>Harborside</td>\n",
       "      <td>40.719252</td>\n",
       "      <td>-74.034234</td>\n",
       "      <td>Harborside</td>\n",
       "      <td>40.719252</td>\n",
       "      <td>-74.034234</td>\n",
       "      <td>18533</td>\n",
       "      <td>Subscriber</td>\n",
       "      <td>1991.0</td>\n",
       "      <td>1</td>\n",
       "    </tr>\n",
       "    <tr>\n",
       "      <th>34915</th>\n",
       "      <td>512</td>\n",
       "      <td>2017-10-31 23:32:49</td>\n",
       "      <td>2017-10-31 23:41:21</td>\n",
       "      <td>Dey St</td>\n",
       "      <td>40.737711</td>\n",
       "      <td>-74.066921</td>\n",
       "      <td>Pershing Field</td>\n",
       "      <td>40.742677</td>\n",
       "      <td>-74.051789</td>\n",
       "      <td>29623</td>\n",
       "      <td>Subscriber</td>\n",
       "      <td>1978.0</td>\n",
       "      <td>1</td>\n",
       "    </tr>\n",
       "    <tr>\n",
       "      <th>34916</th>\n",
       "      <td>320</td>\n",
       "      <td>2017-10-31 23:48:53</td>\n",
       "      <td>2017-10-31 23:54:13</td>\n",
       "      <td>Brunswick &amp; 6th</td>\n",
       "      <td>40.726012</td>\n",
       "      <td>-74.050389</td>\n",
       "      <td>City Hall</td>\n",
       "      <td>40.717733</td>\n",
       "      <td>-74.043845</td>\n",
       "      <td>29655</td>\n",
       "      <td>Subscriber</td>\n",
       "      <td>1985.0</td>\n",
       "      <td>1</td>\n",
       "    </tr>\n",
       "    <tr>\n",
       "      <th>34917</th>\n",
       "      <td>327</td>\n",
       "      <td>2017-10-31 23:49:16</td>\n",
       "      <td>2017-10-31 23:54:43</td>\n",
       "      <td>Hilltop</td>\n",
       "      <td>40.731169</td>\n",
       "      <td>-74.057574</td>\n",
       "      <td>Christ Hospital</td>\n",
       "      <td>40.734786</td>\n",
       "      <td>-74.050444</td>\n",
       "      <td>31866</td>\n",
       "      <td>Subscriber</td>\n",
       "      <td>1995.0</td>\n",
       "      <td>1</td>\n",
       "    </tr>\n",
       "    <tr>\n",
       "      <th>34918</th>\n",
       "      <td>152</td>\n",
       "      <td>2017-10-31 23:50:04</td>\n",
       "      <td>2017-10-31 23:52:36</td>\n",
       "      <td>Pershing Field</td>\n",
       "      <td>40.742677</td>\n",
       "      <td>-74.051789</td>\n",
       "      <td>Leonard Gordon Park</td>\n",
       "      <td>40.745910</td>\n",
       "      <td>-74.057271</td>\n",
       "      <td>29623</td>\n",
       "      <td>Subscriber</td>\n",
       "      <td>1978.0</td>\n",
       "      <td>1</td>\n",
       "    </tr>\n",
       "  </tbody>\n",
       "</table>\n",
       "</div>"
      ],
      "text/plain": [
       "       tripduration            starttime             stoptime  \\\n",
       "34914           645  2017-10-31 23:30:45  2017-10-31 23:41:30   \n",
       "34915           512  2017-10-31 23:32:49  2017-10-31 23:41:21   \n",
       "34916           320  2017-10-31 23:48:53  2017-10-31 23:54:13   \n",
       "34917           327  2017-10-31 23:49:16  2017-10-31 23:54:43   \n",
       "34918           152  2017-10-31 23:50:04  2017-10-31 23:52:36   \n",
       "\n",
       "      start station name  start station latitude  start station longitude  \\\n",
       "34914         Harborside               40.719252               -74.034234   \n",
       "34915             Dey St               40.737711               -74.066921   \n",
       "34916    Brunswick & 6th               40.726012               -74.050389   \n",
       "34917            Hilltop               40.731169               -74.057574   \n",
       "34918     Pershing Field               40.742677               -74.051789   \n",
       "\n",
       "          end station name  end station latitude  end station longitude  \\\n",
       "34914           Harborside             40.719252             -74.034234   \n",
       "34915       Pershing Field             40.742677             -74.051789   \n",
       "34916            City Hall             40.717733             -74.043845   \n",
       "34917      Christ Hospital             40.734786             -74.050444   \n",
       "34918  Leonard Gordon Park             40.745910             -74.057271   \n",
       "\n",
       "       bikeid    usertype  birth year  gender  \n",
       "34914   18533  Subscriber      1991.0       1  \n",
       "34915   29623  Subscriber      1978.0       1  \n",
       "34916   29655  Subscriber      1985.0       1  \n",
       "34917   31866  Subscriber      1995.0       1  \n",
       "34918   29623  Subscriber      1978.0       1  "
      ]
     },
     "execution_count": 11,
     "metadata": {},
     "output_type": "execute_result"
    }
   ],
   "source": [
    "#Using pandas \"drop\" method to get rid of \"start station id\" and \"stop station id\" columns\n",
    "\n",
    "df.drop([\"start station id\", \"end station id\"], axis = 1, inplace = True)\n",
    "\n",
    "\n",
    "#Displaying last five rows of the dataset after dropping start station id and end station id columns\n",
    "\n",
    "df.tail()"
   ]
  },
  {
   "cell_type": "code",
   "execution_count": 12,
   "metadata": {},
   "outputs": [
    {
     "data": {
      "text/plain": [
       "(34919, 13)"
      ]
     },
     "execution_count": 12,
     "metadata": {},
     "output_type": "execute_result"
    }
   ],
   "source": [
    "df.shape"
   ]
  },
  {
   "cell_type": "markdown",
   "metadata": {},
   "source": [
    "<span style=\"color:blue\">After removing two columns from the dataset, the data frame now has 13 columns.</span>"
   ]
  },
  {
   "cell_type": "markdown",
   "metadata": {},
   "source": [
    "### Data Formatting"
   ]
  },
  {
   "cell_type": "code",
   "execution_count": 13,
   "metadata": {},
   "outputs": [],
   "source": [
    "#Using pandas \"astype()\" attribute to change the format of \"birth year\" column from float to integer\n",
    "\n",
    "df[[\"birth year\"]] = df[[\"birth year\"]].astype(\"int\")"
   ]
  },
  {
   "cell_type": "code",
   "execution_count": 14,
   "metadata": {},
   "outputs": [
    {
     "name": "stdout",
     "output_type": "stream",
     "text": [
      "The Data Type of Birth Year column is  int32\n"
     ]
    }
   ],
   "source": [
    "#Using pandas \"dtypes\" function to check data type of birth year column\n",
    "\n",
    "birth_year_datatype = df.dtypes[\"birth year\"]\n",
    "print(\"The Data Type of Birth Year column is \", birth_year_datatype)"
   ]
  },
  {
   "cell_type": "markdown",
   "metadata": {},
   "source": [
    "__Start Time and Stop Time__"
   ]
  },
  {
   "cell_type": "code",
   "execution_count": 15,
   "metadata": {},
   "outputs": [],
   "source": [
    "#Using pandas \"to_datetime\" method to change the format of \"stattime & stoptime\" columns from object to datetime\n",
    "\n",
    "df.starttime = pd.to_datetime(df.starttime, infer_datetime_format=True)\n",
    "df.stoptime = pd.to_datetime(df.stoptime, infer_datetime_format=True)"
   ]
  },
  {
   "cell_type": "markdown",
   "metadata": {},
   "source": [
    "__Checking the changes made in the dataframe__"
   ]
  },
  {
   "cell_type": "code",
   "execution_count": 16,
   "metadata": {},
   "outputs": [
    {
     "name": "stdout",
     "output_type": "stream",
     "text": [
      "<class 'pandas.core.frame.DataFrame'>\n",
      "RangeIndex: 34919 entries, 0 to 34918\n",
      "Data columns (total 13 columns):\n",
      " #   Column                   Non-Null Count  Dtype         \n",
      "---  ------                   --------------  -----         \n",
      " 0   tripduration             34919 non-null  int64         \n",
      " 1   starttime                34919 non-null  datetime64[ns]\n",
      " 2   stoptime                 34919 non-null  datetime64[ns]\n",
      " 3   start station name       34919 non-null  object        \n",
      " 4   start station latitude   34919 non-null  float64       \n",
      " 5   start station longitude  34919 non-null  float64       \n",
      " 6   end station name         34919 non-null  object        \n",
      " 7   end station latitude     34919 non-null  float64       \n",
      " 8   end station longitude    34919 non-null  float64       \n",
      " 9   bikeid                   34919 non-null  int64         \n",
      " 10  usertype                 34919 non-null  object        \n",
      " 11  birth year               34919 non-null  int32         \n",
      " 12  gender                   34919 non-null  int64         \n",
      "dtypes: datetime64[ns](2), float64(4), int32(1), int64(3), object(3)\n",
      "memory usage: 3.3+ MB\n"
     ]
    }
   ],
   "source": [
    "df.info()"
   ]
  },
  {
   "cell_type": "markdown",
   "metadata": {},
   "source": [
    "<span style=\"color:blue\">It can be seen that the data format of birth year, starttime, stoptime is now converted into integer and datetime format</span>"
   ]
  },
  {
   "cell_type": "markdown",
   "metadata": {},
   "source": [
    "### Data Transformation "
   ]
  },
  {
   "cell_type": "markdown",
   "metadata": {},
   "source": [
    "__tripduration__ "
   ]
  },
  {
   "cell_type": "markdown",
   "metadata": {},
   "source": [
    "<span style=\"color:blue\">The values in trip duration column are given in seconds which needs to converted into appropriate time format, that is, hours, minutes and seconds</span>"
   ]
  },
  {
   "cell_type": "code",
   "execution_count": 17,
   "metadata": {},
   "outputs": [
    {
     "data": {
      "text/plain": [
       "0     0:6:50\n",
       "1     0:6:52\n",
       "2     0:4:34\n",
       "3    0:36:38\n",
       "4     0:2:46\n",
       "Name: Trip Duration, dtype: object"
      ]
     },
     "execution_count": 17,
     "metadata": {},
     "output_type": "execute_result"
    }
   ],
   "source": [
    "#Transforming the data values of trip duration column to relevant time format and assigning the change to a new column\n",
    "\n",
    "df['Trip Duration']=(df.tripduration//3600).astype(str)+':'+(df.tripduration%3600//60).astype(str)+':'+(df.tripduration%60).astype(str)\n",
    "\n",
    "#Displaying the first five rows of new Trip Duration column\n",
    "\n",
    "df[\"Trip Duration\"].head()"
   ]
  },
  {
   "cell_type": "markdown",
   "metadata": {},
   "source": [
    "<span style=\"color:blue\">The output of the code shows that the data of tripduration column is now transformed into time format</span>"
   ]
  },
  {
   "cell_type": "markdown",
   "metadata": {},
   "source": [
    "__Splitting Start Time and Stop Time columns into Start Date, Start Time, Stop Date and Stop Time__"
   ]
  },
  {
   "cell_type": "code",
   "execution_count": 18,
   "metadata": {},
   "outputs": [
    {
     "data": {
      "text/html": [
       "<div>\n",
       "<style scoped>\n",
       "    .dataframe tbody tr th:only-of-type {\n",
       "        vertical-align: middle;\n",
       "    }\n",
       "\n",
       "    .dataframe tbody tr th {\n",
       "        vertical-align: top;\n",
       "    }\n",
       "\n",
       "    .dataframe thead th {\n",
       "        text-align: right;\n",
       "    }\n",
       "</style>\n",
       "<table border=\"1\" class=\"dataframe\">\n",
       "  <thead>\n",
       "    <tr style=\"text-align: right;\">\n",
       "      <th></th>\n",
       "      <th>Start Date</th>\n",
       "      <th>Start Time</th>\n",
       "      <th>Stop Date</th>\n",
       "      <th>Stop Time</th>\n",
       "    </tr>\n",
       "  </thead>\n",
       "  <tbody>\n",
       "    <tr>\n",
       "      <th>0</th>\n",
       "      <td>2017-10-01</td>\n",
       "      <td>00:03:08</td>\n",
       "      <td>2017-10-01</td>\n",
       "      <td>00:09:59</td>\n",
       "    </tr>\n",
       "    <tr>\n",
       "      <th>1</th>\n",
       "      <td>2017-10-01</td>\n",
       "      <td>00:03:13</td>\n",
       "      <td>2017-10-01</td>\n",
       "      <td>00:10:06</td>\n",
       "    </tr>\n",
       "    <tr>\n",
       "      <th>2</th>\n",
       "      <td>2017-10-01</td>\n",
       "      <td>00:24:07</td>\n",
       "      <td>2017-10-01</td>\n",
       "      <td>00:28:42</td>\n",
       "    </tr>\n",
       "    <tr>\n",
       "      <th>3</th>\n",
       "      <td>2017-10-01</td>\n",
       "      <td>00:31:03</td>\n",
       "      <td>2017-10-01</td>\n",
       "      <td>01:07:42</td>\n",
       "    </tr>\n",
       "    <tr>\n",
       "      <th>4</th>\n",
       "      <td>2017-10-01</td>\n",
       "      <td>00:34:09</td>\n",
       "      <td>2017-10-01</td>\n",
       "      <td>00:36:56</td>\n",
       "    </tr>\n",
       "  </tbody>\n",
       "</table>\n",
       "</div>"
      ],
      "text/plain": [
       "   Start Date Start Time   Stop Date Stop Time\n",
       "0  2017-10-01   00:03:08  2017-10-01  00:09:59\n",
       "1  2017-10-01   00:03:13  2017-10-01  00:10:06\n",
       "2  2017-10-01   00:24:07  2017-10-01  00:28:42\n",
       "3  2017-10-01   00:31:03  2017-10-01  01:07:42\n",
       "4  2017-10-01   00:34:09  2017-10-01  00:36:56"
      ]
     },
     "execution_count": 18,
     "metadata": {},
     "output_type": "execute_result"
    }
   ],
   "source": [
    "df['Start Date'] = df.starttime.dt.date\n",
    "df['Stop Date'] = df.stoptime.dt.date\n",
    "df['Start Time'] = df.starttime.dt.time\n",
    "df['Stop Time'] = df.stoptime.dt.time\n",
    "\n",
    "df[[\"Start Date\", \"Start Time\", \"Stop Date\", \"Stop Time\"]].head()"
   ]
  },
  {
   "cell_type": "markdown",
   "metadata": {},
   "source": [
    "__Creating a new column for gender which displays the categorical data of gender__"
   ]
  },
  {
   "cell_type": "code",
   "execution_count": 19,
   "metadata": {},
   "outputs": [
    {
     "data": {
      "text/plain": [
       "array(['Male', 'Female', 'Unknown'], dtype=object)"
      ]
     },
     "execution_count": 19,
     "metadata": {},
     "output_type": "execute_result"
    }
   ],
   "source": [
    "df['Gender'] = df.gender.replace([0,1,2],['Unknown','Male', 'Female'])\n",
    "\n",
    "#Using pandas \"unique\" method of get distinctive values of gender column\n",
    "\n",
    "df[\"Gender\"].unique()"
   ]
  },
  {
   "cell_type": "markdown",
   "metadata": {},
   "source": [
    "### Dropping starttime and stoptime columns from the dataset "
   ]
  },
  {
   "cell_type": "code",
   "execution_count": 20,
   "metadata": {},
   "outputs": [],
   "source": [
    "#Using pandas \"drop\" function to drop starttime and stoptime columns from dataset as they are not required for further analysis\n",
    "\n",
    "df.drop([\"starttime\", \"stoptime\"], axis=  1, inplace= True)"
   ]
  },
  {
   "cell_type": "code",
   "execution_count": 21,
   "metadata": {},
   "outputs": [],
   "source": [
    "#Adding new column to the dataset for showing the age of bike riders\n",
    "\n",
    "now = 2017  #2017 year is assigned to now because we are doing analysis for the year 2017 \n",
    "df[\"Age\"] = now - df[\"birth year\"]"
   ]
  },
  {
   "cell_type": "code",
   "execution_count": 22,
   "metadata": {},
   "outputs": [
    {
     "data": {
      "text/plain": [
       "0    41\n",
       "1    42\n",
       "2    38\n",
       "3    23\n",
       "4    50\n",
       "Name: Age, dtype: int32"
      ]
     },
     "execution_count": 22,
     "metadata": {},
     "output_type": "execute_result"
    }
   ],
   "source": [
    "#Displaying the first five rows value for Age column\n",
    "\n",
    "df[\"Age\"].head()"
   ]
  },
  {
   "cell_type": "code",
   "execution_count": 23,
   "metadata": {},
   "outputs": [
    {
     "data": {
      "text/plain": [
       "Index(['tripduration', 'start station name', 'start station latitude',\n",
       "       'start station longitude', 'end station name', 'end station latitude',\n",
       "       'end station longitude', 'bikeid', 'usertype', 'birth year', 'gender',\n",
       "       'Trip Duration', 'Start Date', 'Stop Date', 'Start Time', 'Stop Time',\n",
       "       'Gender', 'Age'],\n",
       "      dtype='object')"
      ]
     },
     "execution_count": 23,
     "metadata": {},
     "output_type": "execute_result"
    }
   ],
   "source": [
    "#Showing the list of all columns in the dataset after dropping starttime and stoptime columns and introducing Age column\n",
    "df.columns"
   ]
  },
  {
   "cell_type": "markdown",
   "metadata": {},
   "source": [
    "## Exploratory Data Analysis "
   ]
  },
  {
   "cell_type": "markdown",
   "metadata": {},
   "source": [
    "### Correlation"
   ]
  },
  {
   "cell_type": "code",
   "execution_count": 24,
   "metadata": {},
   "outputs": [
    {
     "data": {
      "text/html": [
       "<div>\n",
       "<style scoped>\n",
       "    .dataframe tbody tr th:only-of-type {\n",
       "        vertical-align: middle;\n",
       "    }\n",
       "\n",
       "    .dataframe tbody tr th {\n",
       "        vertical-align: top;\n",
       "    }\n",
       "\n",
       "    .dataframe thead th {\n",
       "        text-align: right;\n",
       "    }\n",
       "</style>\n",
       "<table border=\"1\" class=\"dataframe\">\n",
       "  <thead>\n",
       "    <tr style=\"text-align: right;\">\n",
       "      <th></th>\n",
       "      <th>tripduration</th>\n",
       "      <th>start station latitude</th>\n",
       "      <th>start station longitude</th>\n",
       "      <th>end station latitude</th>\n",
       "      <th>end station longitude</th>\n",
       "      <th>bikeid</th>\n",
       "      <th>birth year</th>\n",
       "      <th>gender</th>\n",
       "      <th>Age</th>\n",
       "    </tr>\n",
       "  </thead>\n",
       "  <tbody>\n",
       "    <tr>\n",
       "      <th>tripduration</th>\n",
       "      <td>1.000000</td>\n",
       "      <td>0.001399</td>\n",
       "      <td>-0.022067</td>\n",
       "      <td>-0.000051</td>\n",
       "      <td>-0.000046</td>\n",
       "      <td>-0.006536</td>\n",
       "      <td>-0.002551</td>\n",
       "      <td>-0.028337</td>\n",
       "      <td>0.002551</td>\n",
       "    </tr>\n",
       "    <tr>\n",
       "      <th>start station latitude</th>\n",
       "      <td>0.001399</td>\n",
       "      <td>1.000000</td>\n",
       "      <td>-0.263281</td>\n",
       "      <td>-0.003300</td>\n",
       "      <td>0.004563</td>\n",
       "      <td>-0.017405</td>\n",
       "      <td>-0.014482</td>\n",
       "      <td>0.018191</td>\n",
       "      <td>0.014482</td>\n",
       "    </tr>\n",
       "    <tr>\n",
       "      <th>start station longitude</th>\n",
       "      <td>-0.022067</td>\n",
       "      <td>-0.263281</td>\n",
       "      <td>1.000000</td>\n",
       "      <td>-0.007987</td>\n",
       "      <td>0.008929</td>\n",
       "      <td>0.006497</td>\n",
       "      <td>0.019653</td>\n",
       "      <td>-0.007549</td>\n",
       "      <td>-0.019653</td>\n",
       "    </tr>\n",
       "    <tr>\n",
       "      <th>end station latitude</th>\n",
       "      <td>-0.000051</td>\n",
       "      <td>-0.003300</td>\n",
       "      <td>-0.007987</td>\n",
       "      <td>1.000000</td>\n",
       "      <td>-0.999982</td>\n",
       "      <td>0.000225</td>\n",
       "      <td>-0.006893</td>\n",
       "      <td>-0.006672</td>\n",
       "      <td>0.006893</td>\n",
       "    </tr>\n",
       "    <tr>\n",
       "      <th>end station longitude</th>\n",
       "      <td>-0.000046</td>\n",
       "      <td>0.004563</td>\n",
       "      <td>0.008929</td>\n",
       "      <td>-0.999982</td>\n",
       "      <td>1.000000</td>\n",
       "      <td>-0.000331</td>\n",
       "      <td>0.006908</td>\n",
       "      <td>0.006834</td>\n",
       "      <td>-0.006908</td>\n",
       "    </tr>\n",
       "    <tr>\n",
       "      <th>bikeid</th>\n",
       "      <td>-0.006536</td>\n",
       "      <td>-0.017405</td>\n",
       "      <td>0.006497</td>\n",
       "      <td>0.000225</td>\n",
       "      <td>-0.000331</td>\n",
       "      <td>1.000000</td>\n",
       "      <td>-0.012016</td>\n",
       "      <td>-0.012623</td>\n",
       "      <td>0.012016</td>\n",
       "    </tr>\n",
       "    <tr>\n",
       "      <th>birth year</th>\n",
       "      <td>-0.002551</td>\n",
       "      <td>-0.014482</td>\n",
       "      <td>0.019653</td>\n",
       "      <td>-0.006893</td>\n",
       "      <td>0.006908</td>\n",
       "      <td>-0.012016</td>\n",
       "      <td>1.000000</td>\n",
       "      <td>0.049826</td>\n",
       "      <td>-1.000000</td>\n",
       "    </tr>\n",
       "    <tr>\n",
       "      <th>gender</th>\n",
       "      <td>-0.028337</td>\n",
       "      <td>0.018191</td>\n",
       "      <td>-0.007549</td>\n",
       "      <td>-0.006672</td>\n",
       "      <td>0.006834</td>\n",
       "      <td>-0.012623</td>\n",
       "      <td>0.049826</td>\n",
       "      <td>1.000000</td>\n",
       "      <td>-0.049826</td>\n",
       "    </tr>\n",
       "    <tr>\n",
       "      <th>Age</th>\n",
       "      <td>0.002551</td>\n",
       "      <td>0.014482</td>\n",
       "      <td>-0.019653</td>\n",
       "      <td>0.006893</td>\n",
       "      <td>-0.006908</td>\n",
       "      <td>0.012016</td>\n",
       "      <td>-1.000000</td>\n",
       "      <td>-0.049826</td>\n",
       "      <td>1.000000</td>\n",
       "    </tr>\n",
       "  </tbody>\n",
       "</table>\n",
       "</div>"
      ],
      "text/plain": [
       "                         tripduration  start station latitude  \\\n",
       "tripduration                 1.000000                0.001399   \n",
       "start station latitude       0.001399                1.000000   \n",
       "start station longitude     -0.022067               -0.263281   \n",
       "end station latitude        -0.000051               -0.003300   \n",
       "end station longitude       -0.000046                0.004563   \n",
       "bikeid                      -0.006536               -0.017405   \n",
       "birth year                  -0.002551               -0.014482   \n",
       "gender                      -0.028337                0.018191   \n",
       "Age                          0.002551                0.014482   \n",
       "\n",
       "                         start station longitude  end station latitude  \\\n",
       "tripduration                           -0.022067             -0.000051   \n",
       "start station latitude                 -0.263281             -0.003300   \n",
       "start station longitude                 1.000000             -0.007987   \n",
       "end station latitude                   -0.007987              1.000000   \n",
       "end station longitude                   0.008929             -0.999982   \n",
       "bikeid                                  0.006497              0.000225   \n",
       "birth year                              0.019653             -0.006893   \n",
       "gender                                 -0.007549             -0.006672   \n",
       "Age                                    -0.019653              0.006893   \n",
       "\n",
       "                         end station longitude    bikeid  birth year  \\\n",
       "tripduration                         -0.000046 -0.006536   -0.002551   \n",
       "start station latitude                0.004563 -0.017405   -0.014482   \n",
       "start station longitude               0.008929  0.006497    0.019653   \n",
       "end station latitude                 -0.999982  0.000225   -0.006893   \n",
       "end station longitude                 1.000000 -0.000331    0.006908   \n",
       "bikeid                               -0.000331  1.000000   -0.012016   \n",
       "birth year                            0.006908 -0.012016    1.000000   \n",
       "gender                                0.006834 -0.012623    0.049826   \n",
       "Age                                  -0.006908  0.012016   -1.000000   \n",
       "\n",
       "                           gender       Age  \n",
       "tripduration            -0.028337  0.002551  \n",
       "start station latitude   0.018191  0.014482  \n",
       "start station longitude -0.007549 -0.019653  \n",
       "end station latitude    -0.006672  0.006893  \n",
       "end station longitude    0.006834 -0.006908  \n",
       "bikeid                  -0.012623  0.012016  \n",
       "birth year               0.049826 -1.000000  \n",
       "gender                   1.000000 -0.049826  \n",
       "Age                     -0.049826  1.000000  "
      ]
     },
     "execution_count": 24,
     "metadata": {},
     "output_type": "execute_result"
    }
   ],
   "source": [
    "#Using pandas \"corr\" function to check the correlation among variables\n",
    "\n",
    "dfcorr = df.corr()\n",
    "dfcorr"
   ]
  },
  {
   "cell_type": "markdown",
   "metadata": {},
   "source": [
    "### Correlation Visualization"
   ]
  },
  {
   "cell_type": "code",
   "execution_count": 25,
   "metadata": {},
   "outputs": [
    {
     "data": {
      "text/plain": [
       "<AxesSubplot:>"
      ]
     },
     "execution_count": 25,
     "metadata": {},
     "output_type": "execute_result"
    },
    {
     "data": {
      "image/png": "[encoded data removed]",
      "text/plain": [
       "<Figure size 1008x576 with 2 Axes>"
      ]
     },
     "metadata": {
      "needs_background": "light"
     },
     "output_type": "display_data"
    }
   ],
   "source": [
    "#Using seaborn's \"heatmap\" to visualize the correlation among variables \n",
    "\n",
    "plt.figure(figsize=(14,8))\n",
    "sns.heatmap(dfcorr, annot = True, cmap = \"YlGn\")"
   ]
  },
  {
   "cell_type": "markdown",
   "metadata": {},
   "source": [
    "<span style=\"color:blue\">The above figure shows the correlation between different variables in the dataset. The darker the color, the stronger the positive correlation among variables, while the lightest color shows the strong negative correaltion. </span>\n",
    "\n",
    "<span style = \"color:blue\"> It can be seen that, there is a strong negative correlation between end station longitude and end station latitude as their correlation value is -1, which shows the strong negative corrrelation. </span>"
   ]
  },
  {
   "cell_type": "markdown",
   "metadata": {},
   "source": [
    "### Analyzing feature patterns using visualization"
   ]
  },
  {
   "cell_type": "code",
   "execution_count": 26,
   "metadata": {},
   "outputs": [
    {
     "data": {
      "image/png": "[encoded data removed]",
      "text/plain": [
       "<Figure size 864x792 with 9 Axes>"
      ]
     },
     "metadata": {
      "needs_background": "light"
     },
     "output_type": "display_data"
    }
   ],
   "source": [
    "#Using matplotlib's \"hist\" function to visualize distribution of data for each column in the dataset\n",
    "\n",
    "df.hist(figsize = (12,11), grid= False, color = \"greenyellow\")\n",
    "plt.show()"
   ]
  },
  {
   "cell_type": "markdown",
   "metadata": {},
   "source": [
    "<span style=\"color:blue\">From the above graphs, it can be seen that data is evenly distributed to some extent in \"Start Station latitude\". </span>\n",
    "    \n",
    "<span style=\"color:blue\"> In the case of \"start station longitude\" and \"birth year\" columns in the dataset, distribution is skewed to the left, while \"Age\" is skewed to the right</span>"
   ]
  },
  {
   "cell_type": "markdown",
   "metadata": {},
   "source": [
    "### Exporting the Cleaned and Processed Dataset"
   ]
  },
  {
   "cell_type": "code",
   "execution_count": 28,
   "metadata": {},
   "outputs": [],
   "source": [
    "df.to_csv(\"Citi Bike-Cleaned.csv\")"
   ]
  },
  {
   "cell_type": "markdown",
   "metadata": {},
   "source": []
  }
 ],
 "metadata": {
  "kernelspec": {
   "display_name": "Python 3",
   "language": "python",
   "name": "python3"
  },
  "language_info": {
   "codemirror_mode": {
    "name": "ipython",
    "version": 3
   },
   "file_extension": ".py",
   "mimetype": "text/x-python",
   "name": "python",
   "nbconvert_exporter": "python",
   "pygments_lexer": "ipython3",
   "version": "3.8.5"
  }
 },
 "nbformat": 4,
 "nbformat_minor": 4
}
